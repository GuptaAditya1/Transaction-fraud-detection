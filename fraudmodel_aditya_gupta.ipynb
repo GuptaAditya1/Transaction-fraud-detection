{
 "cells": [
  {
   "cell_type": "code",
   "execution_count": 1,
   "id": "985ecec3-09a5-49ef-987f-a70815159141",
   "metadata": {},
   "outputs": [],
   "source": [
    "import pandas as pd\n",
    "import numpy as np\n",
    "from sklearn.model_selection import train_test_split\n",
    "from sklearn.preprocessing import StandardScaler\n",
    "from tensorflow.keras.models import Sequential\n",
    "from tensorflow.keras.layers import LSTM, MaxPooling1D, Flatten, Dense, Dropout\n",
    "from tensorflow.keras.optimizers import Adam\n",
    "from tensorflow.keras.callbacks import EarlyStopping\n",
    "from imblearn.combine import SMOTETomek"
   ]
  },
  {
   "cell_type": "code",
   "execution_count": 2,
   "id": "3b610b7a-ce68-434b-b361-07ccb17d38dc",
   "metadata": {},
   "outputs": [
    {
     "name": "stdout",
     "output_type": "stream",
     "text": [
      "<class 'pandas.core.frame.DataFrame'>\n",
      "RangeIndex: 6362620 entries, 0 to 6362619\n",
      "Data columns (total 11 columns):\n",
      " #   Column          Dtype  \n",
      "---  ------          -----  \n",
      " 0   step            int64  \n",
      " 1   type            object \n",
      " 2   amount          float64\n",
      " 3   nameOrig        object \n",
      " 4   oldbalanceOrg   float64\n",
      " 5   newbalanceOrig  float64\n",
      " 6   nameDest        object \n",
      " 7   oldbalanceDest  float64\n",
      " 8   newbalanceDest  float64\n",
      " 9   isFraud         int64  \n",
      " 10  isFlaggedFraud  int64  \n",
      "dtypes: float64(5), int64(3), object(3)\n",
      "memory usage: 534.0+ MB\n"
     ]
    }
   ],
   "source": [
    "data=pd.read_csv('Fraud.csv')\n",
    "df=data\n",
    "df.info()\n"
   ]
  },
  {
   "cell_type": "code",
   "execution_count": 3,
   "id": "623904d4-f43b-4997-b3f5-644765332b24",
   "metadata": {},
   "outputs": [
    {
     "name": "stdout",
     "output_type": "stream",
     "text": [
      "False\n"
     ]
    }
   ],
   "source": [
    "print( df.duplicated().any())"
   ]
  },
  {
   "cell_type": "code",
   "execution_count": 4,
   "id": "a96bc8f8-729f-4bcd-9aac-8f2261e1e25c",
   "metadata": {},
   "outputs": [
    {
     "data": {
      "text/plain": [
       "isFraud\n",
       "0    6354407\n",
       "1       8213\n",
       "Name: count, dtype: int64"
      ]
     },
     "execution_count": 4,
     "metadata": {},
     "output_type": "execute_result"
    }
   ],
   "source": [
    "#checking for class imbalance \n",
    "df['isFraud'].value_counts()"
   ]
  },
  {
   "cell_type": "code",
   "execution_count": 5,
   "id": "d3a85310-e599-4fad-a496-c38bb4770c57",
   "metadata": {},
   "outputs": [],
   "source": [
    "#removing non numerical data\n",
    "features=df.drop('type',axis=1)\n",
    "features=features.drop('nameOrig',axis=1)\n",
    "features=features.drop('nameDest',axis=1)\n"
   ]
  },
  {
   "cell_type": "code",
   "execution_count": 6,
   "id": "3be31af0-8e2a-4d15-a93b-b1584f46565b",
   "metadata": {},
   "outputs": [],
   "source": [
    "X=features.drop('isFlaggedFraud',axis=1)\n",
    "y= df.isFlaggedFraud"
   ]
  },
  {
   "cell_type": "code",
   "execution_count": 7,
   "id": "b22d8f11-b191-4459-a20c-b2abff899a68",
   "metadata": {},
   "outputs": [],
   "source": [
    "not_fraud=features[features['isFraud']==0]\n",
    "fraud=features[features['isFraud']==1]\n",
    "#63544\n",
    "not_fraud_sample=not_fraud.sample(n=8213)\n",
    "dd=pd.concat([not_fraud_sample,fraud])"
   ]
  },
  {
   "cell_type": "code",
   "execution_count": 8,
   "id": "aaa4d17a-04b4-451f-a6b3-91978ae36d89",
   "metadata": {},
   "outputs": [],
   "source": [
    "X=dd.drop('isFlaggedFraud',axis=1)\n",
    "y= dd.isFlaggedFraud\n",
    "#y=np.array(v).reshape(-1,1)#making sure that y is 1D"
   ]
  },
  {
   "cell_type": "code",
   "execution_count": 9,
   "id": "b7bb8299-409c-4472-90ce-d72ec2b93d1e",
   "metadata": {},
   "outputs": [],
   "source": [
    "#training and testing data for validation\n",
    "X_train, X_test, y_train, y_test = train_test_split(X, y, test_size=0.2, random_state=8)\n",
    "y_train = y_train.ravel()#flattening\n",
    "\n",
    "#scaling the data to reduce the impact of outliers\n",
    "\n",
    "sc = StandardScaler()\n",
    "X_train_std = sc.fit_transform(X_train)\n",
    "X_test_std = sc.transform(X_test)\n",
    "\n",
    "X_train = np.array(X_train).reshape((X_train.shape[0], X_train.shape[1], 1))\n",
    "X_test = np.array(X_test).reshape((X_test.shape[0], X_test.shape[1], 1))"
   ]
  },
  {
   "cell_type": "code",
   "execution_count": 10,
   "id": "fa4cbe42-fe8d-4cbe-ae8b-86461cd2a7a0",
   "metadata": {},
   "outputs": [],
   "source": [
    "import keras_tuner as kt\n",
    "def build_model(hp):\n",
    "    model = Sequential()\n",
    "    model.add(LSTM(units=hp.Int('units1', min_value=32, max_value=256, step=32), activation='relu', input_shape=(X_train.shape[1], X_train.shape[2]), return_sequences=True))\n",
    "    model.add(Dropout(hp.Float('dropout1', 0.2, 0.5, step=0.1)))\n",
    "    model.add(LSTM(units=hp.Int('units2', min_value=32, max_value=256, step=32), activation='relu', return_sequences=True))\n",
    "    model.add(Dropout(hp.Float('dropout2', 0.2, 0.5, step=0.1)))\n",
    "    model.add(LSTM(units=hp.Int('units3', min_value=32, max_value=256, step=32), activation='relu', return_sequences=True))\n",
    "    model.add(Dropout(hp.Float('dropout3', 0.2, 0.5, step=0.1)))\n",
    "    model.add(LSTM(units=hp.Int('units4', min_value=32, max_value=256, step=32), activation='relu', return_sequences=True))\n",
    "    model.add(Dropout(hp.Float('dropout4', 0.2, 0.5, step=0.1)))\n",
    "    model.add(LSTM(units=hp.Int('units5', min_value=32, max_value=256, step=32), activation='relu'))\n",
    "    model.add(Dropout(hp.Float('dropout5', 0.2, 0.5, step=0.1)))\n",
    "    model.add(Dense(1, activation='sigmoid'))\n",
    "    \n",
    "    model.compile(optimizer=Adam(learning_rate=hp.Choice('learning_rate', [1e-2, 1e-3, 1e-4])), loss='binary_crossentropy', metrics=['accuracy'])\n",
    "    return model"
   ]
  },
  {
   "cell_type": "code",
   "execution_count": 11,
   "id": "57fb2957-b4c3-47aa-81cd-941db7498981",
   "metadata": {},
   "outputs": [
    {
     "name": "stdout",
     "output_type": "stream",
     "text": [
      "Reloading Tuner from tuner_dir\\fraud_detection\\tuner0.json\n"
     ]
    }
   ],
   "source": [
    "#model.compile(optimizer=Adam(learning_rate=0.001), loss='binary_crossentropy', metrics=['accuracy'])\n",
    "tuner = kt.RandomSearch(build_model, objective='val_accuracy', max_trials=10, executions_per_trial=1, directory='tuner_dir', project_name='fraud_detection')"
   ]
  },
  {
   "cell_type": "code",
   "execution_count": 12,
   "id": "2d8dd046-88cb-4529-87f0-cf6179c06299",
   "metadata": {},
   "outputs": [],
   "source": [
    "early_stopping = EarlyStopping(monitor='val_loss', patience=5, restore_best_weights=True)\n",
    "\n",
    "# Train the model with early stopping\n",
    "#history=model.fit(X_train, y_train, epochs=10, batch_size=32, validation_split=0.2, callbacks=[early_stopping], verbose=1)\n",
    "\n",
    "# Evaluate the model\n",
    "#loss, accuracy = model.evaluate(X_test, y_test, verbose=0)\n",
    "#print(f\"Test Accuracy: {accuracy * 100:.2f}%\")"
   ]
  },
  {
   "cell_type": "code",
   "execution_count": 34,
   "id": "149dd9c3-9949-4fb4-a140-229e387c4a86",
   "metadata": {},
   "outputs": [
    {
     "name": "stdout",
     "output_type": "stream",
     "text": [
      "Test Accuracy: 99.76%\n"
     ]
    }
   ],
   "source": [
    "tuner.search(X_train, y_train, epochs=10, batch_size=32, validation_split=0.2, callbacks=[early_stopping], verbose=1)\n",
    "\n",
    "# Get the best model\n",
    "best_model = tuner.get_best_models(num_models=1)[0]\n",
    "\n",
    "# Evaluate the best model\n",
    "loss, accuracy = best_model.evaluate(X_test, y_test, verbose=0)\n",
    "print(f\"Test Accuracy: {accuracy * 100:.2f}%\")"
   ]
  },
  {
   "cell_type": "code",
   "execution_count": 31,
   "id": "9a229597-2046-4e5d-8735-d80fe64f54ca",
   "metadata": {},
   "outputs": [
    {
     "name": "stdout",
     "output_type": "stream",
     "text": [
      "103/103 [==============================] - 2s 22ms/step\n"
     ]
    }
   ],
   "source": [
    "y_pred = best_model.predict(X_test)\n",
    "y_pred = (y_pred > 0.5).astype(int)"
   ]
  },
  {
   "cell_type": "code",
   "execution_count": 41,
   "id": "3ff2018a-461d-4136-9f65-74496d2beb16",
   "metadata": {},
   "outputs": [
    {
     "data": {
      "text/plain": [
       "isFraud\n",
       "0    8213\n",
       "1    8213\n",
       "Name: count, dtype: int64"
      ]
     },
     "execution_count": 41,
     "metadata": {},
     "output_type": "execute_result"
    }
   ],
   "source": [
    "dd['isFraud'].value_counts()"
   ]
  },
  {
   "cell_type": "code",
   "execution_count": 37,
   "id": "793921d5-9c16-4362-aeca-71c7b4847ef3",
   "metadata": {},
   "outputs": [
    {
     "name": "stdout",
     "output_type": "stream",
     "text": [
      "[[3278    3]\n",
      " [   5    0]]\n"
     ]
    }
   ],
   "source": [
    "print(confusion_matrix)"
   ]
  },
  {
   "cell_type": "code",
   "execution_count": 38,
   "id": "323081ab-345f-4c64-9716-973d0eeb9f6e",
   "metadata": {},
   "outputs": [
    {
     "name": "stdout",
     "output_type": "stream",
     "text": [
      "0.9975654290931223\n"
     ]
    }
   ],
   "source": [
    "print(accuracy_score(y_test, y_pred))"
   ]
  },
  {
   "cell_type": "code",
   "execution_count": 43,
   "id": "2fde7de5-cdce-4cf8-8316-1363302e2729",
   "metadata": {},
   "outputs": [
    {
     "name": "stderr",
     "output_type": "stream",
     "text": [
      "C:\\Users\\shale\\AppData\\Local\\Programs\\Python\\Python311\\Lib\\site-packages\\keras\\src\\engine\\training.py:3000: UserWarning: You are saving your model as an HDF5 file via `model.save()`. This file format is considered legacy. We recommend using instead the native Keras format, e.g. `model.save('my_model.keras')`.\n",
      "  saving_api.save_model(\n"
     ]
    }
   ],
   "source": [
    "best_model.save('fraud_detection_rnn.h5')"
   ]
  },
  {
   "cell_type": "code",
   "execution_count": 44,
   "id": "0e9ddebc-31ef-42c6-864b-8ea9cb85be03",
   "metadata": {},
   "outputs": [],
   "source": [
    "Fraud_detect=best_model\n",
    "#Fraud_detect is model"
   ]
  },
  {
   "cell_type": "code",
   "execution_count": null,
   "id": "b746c44a-5a88-4473-85bf-22d89745b8da",
   "metadata": {},
   "outputs": [],
   "source": [
    "#Ans1 I checked for issing values and used standardscaler\n",
    "#Ans2 I used lstm rnn model\n",
    "\n",
    "#4 oldbalanceOrg newbalanceOrig\n",
    "# yes as they  show difference\n",
    "# company should carefully monitor transactinso and use ai model for prevention."
   ]
  }
 ],
 "metadata": {
  "kernelspec": {
   "display_name": "Python 3 (ipykernel)",
   "language": "python",
   "name": "python3"
  },
  "language_info": {
   "codemirror_mode": {
    "name": "ipython",
    "version": 3
   },
   "file_extension": ".py",
   "mimetype": "text/x-python",
   "name": "python",
   "nbconvert_exporter": "python",
   "pygments_lexer": "ipython3",
   "version": "3.11.5"
  }
 },
 "nbformat": 4,
 "nbformat_minor": 5
}
